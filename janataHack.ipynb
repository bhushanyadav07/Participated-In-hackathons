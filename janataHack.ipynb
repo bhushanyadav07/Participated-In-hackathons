{
  "nbformat": 4,
  "nbformat_minor": 0,
  "metadata": {
    "colab": {
      "name": "janataHack.ipynb",
      "provenance": [],
      "toc_visible": true
    },
    "kernelspec": {
      "name": "python3",
      "display_name": "Python 3"
    }
  },
  "cells": [
    {
      "cell_type": "code",
      "metadata": {
        "id": "st82A19LWk8t",
        "colab_type": "code",
        "colab": {}
      },
      "source": [
        "import pandas as pd\n",
        "import numpy as np\n",
        "import matplotlib.pyplot as plt\n",
        "import seaborn as sns\n",
        "from sklearn.model_selection import train_test_split\n",
        "from sklearn.metrics import confusion_matrix, roc_curve, roc_auc_score"
      ],
      "execution_count": 0,
      "outputs": []
    },
    {
      "cell_type": "code",
      "metadata": {
        "id": "-2b9Hejxa86-",
        "colab_type": "code",
        "outputId": "43851570-9d3b-4bc8-aa12-e6e6956783cd",
        "colab": {
          "base_uri": "https://localhost:8080/",
          "height": 470
        }
      },
      "source": [
        "#importing the datasets\n",
        "df_train = pd.read_csv('/content/train.csv')\n",
        "df_test = pd.read_csv('/content/test.csv')\n",
        "print(df_train.head())\n",
        "print('* '*50)\n",
        "print(df_test.head())\n"
      ],
      "execution_count": 282,
      "outputs": [
        {
          "output_type": "stream",
          "text": [
            "  session_id       startTime         endTime  \\\n",
            "0     u16159  15/12/14 18:11  15/12/14 18:12   \n",
            "1     u10253  16/12/14 14:35  16/12/14 14:41   \n",
            "2     u19037  01/12/14 15:58  01/12/14 15:58   \n",
            "3     u14556   23/11/14 2:57   23/11/14 3:00   \n",
            "4     u24295  17/12/14 16:44  17/12/14 16:46   \n",
            "\n",
            "                                         ProductList  gender  \n",
            "0  A00002/B00003/C00006/D28435/;A00002/B00003/C00...  female  \n",
            "1  A00001/B00009/C00031/D29404/;A00001/B00009/C00...    male  \n",
            "2                       A00002/B00001/C00020/D16944/  female  \n",
            "3  A00002/B00004/C00018/D10284/;A00002/B00004/C00...  female  \n",
            "4  A00001/B00001/C00012/D30805/;A00001/B00001/C00...    male  \n",
            "* * * * * * * * * * * * * * * * * * * * * * * * * * * * * * * * * * * * * * * * * * * * * * * * * * \n",
            "  session_id       startTime         endTime  \\\n",
            "0     u12112  08/12/14 13:36  08/12/14 13:36   \n",
            "1     u19725  19/12/14 13:52  19/12/14 13:52   \n",
            "2     u11795  01/12/14 10:44  01/12/14 10:44   \n",
            "3     u22639  08/12/14 20:19  08/12/14 20:22   \n",
            "4     u18034  15/12/14 19:33  15/12/14 19:33   \n",
            "\n",
            "                                         ProductList  \n",
            "0                       A00002/B00003/C00006/D19956/  \n",
            "1                       A00002/B00005/C00067/D02026/  \n",
            "2                       A00002/B00002/C00004/D12538/  \n",
            "3  A00002/B00003/C00079/D22781/;A00002/B00003/C00...  \n",
            "4                       A00002/B00001/C00010/D23419/  \n"
          ],
          "name": "stdout"
        }
      ]
    },
    {
      "cell_type": "code",
      "metadata": {
        "id": "Ji_Kr87Za9u9",
        "colab_type": "code",
        "outputId": "506a8c4d-502b-488c-d8ea-8c10031a4d1d",
        "colab": {
          "base_uri": "https://localhost:8080/",
          "height": 151
        }
      },
      "source": [
        "print(\"Train data \\nfeatures : \\t{}\\nThe inputs : \\t{}\".format(df_train.shape[1], df_train.shape[0])); print(\"\\n\")\n",
        "print(\"Test data \\nfeatures : \\t{}\\nThe inputs : \\t{}\".format(df_test.shape[1], df_test.shape[0]))"
      ],
      "execution_count": 283,
      "outputs": [
        {
          "output_type": "stream",
          "text": [
            "Train data \n",
            "features : \t5\n",
            "The inputs : \t10500\n",
            "\n",
            "\n",
            "Test data \n",
            "features : \t4\n",
            "The inputs : \t4500\n"
          ],
          "name": "stdout"
        }
      ]
    },
    {
      "cell_type": "markdown",
      "metadata": {
        "id": "Vl-j1WzroSLz",
        "colab_type": "text"
      },
      "source": [
        "##EDA"
      ]
    },
    {
      "cell_type": "code",
      "metadata": {
        "id": "X5IL7hS7nR_s",
        "colab_type": "code",
        "colab": {}
      },
      "source": [
        "# To show the all columns\n",
        "pd.set_option(\"display.max_columns\", 2000)\n",
        "pd.set_option(\"display.max_rows\", 2000)"
      ],
      "execution_count": 0,
      "outputs": []
    },
    {
      "cell_type": "code",
      "metadata": {
        "id": "iX1z-dXOm0wg",
        "colab_type": "code",
        "outputId": "bfe61a4c-18ee-4242-e1dd-85f3d8b70f75",
        "colab": {
          "base_uri": "https://localhost:8080/",
          "height": 470
        }
      },
      "source": [
        "print(df_train.head())\n",
        "print('* '*50)\n",
        "print(df_test.head())"
      ],
      "execution_count": 285,
      "outputs": [
        {
          "output_type": "stream",
          "text": [
            "  session_id       startTime         endTime  \\\n",
            "0     u16159  15/12/14 18:11  15/12/14 18:12   \n",
            "1     u10253  16/12/14 14:35  16/12/14 14:41   \n",
            "2     u19037  01/12/14 15:58  01/12/14 15:58   \n",
            "3     u14556   23/11/14 2:57   23/11/14 3:00   \n",
            "4     u24295  17/12/14 16:44  17/12/14 16:46   \n",
            "\n",
            "                                         ProductList  gender  \n",
            "0  A00002/B00003/C00006/D28435/;A00002/B00003/C00...  female  \n",
            "1  A00001/B00009/C00031/D29404/;A00001/B00009/C00...    male  \n",
            "2                       A00002/B00001/C00020/D16944/  female  \n",
            "3  A00002/B00004/C00018/D10284/;A00002/B00004/C00...  female  \n",
            "4  A00001/B00001/C00012/D30805/;A00001/B00001/C00...    male  \n",
            "* * * * * * * * * * * * * * * * * * * * * * * * * * * * * * * * * * * * * * * * * * * * * * * * * * \n",
            "  session_id       startTime         endTime  \\\n",
            "0     u12112  08/12/14 13:36  08/12/14 13:36   \n",
            "1     u19725  19/12/14 13:52  19/12/14 13:52   \n",
            "2     u11795  01/12/14 10:44  01/12/14 10:44   \n",
            "3     u22639  08/12/14 20:19  08/12/14 20:22   \n",
            "4     u18034  15/12/14 19:33  15/12/14 19:33   \n",
            "\n",
            "                                         ProductList  \n",
            "0                       A00002/B00003/C00006/D19956/  \n",
            "1                       A00002/B00005/C00067/D02026/  \n",
            "2                       A00002/B00002/C00004/D12538/  \n",
            "3  A00002/B00003/C00079/D22781/;A00002/B00003/C00...  \n",
            "4                       A00002/B00001/C00010/D23419/  \n"
          ],
          "name": "stdout"
        }
      ]
    },
    {
      "cell_type": "code",
      "metadata": {
        "id": "oNCa62vboG-x",
        "colab_type": "code",
        "outputId": "3b413b60-e927-4298-a210-65bb191361a9",
        "colab": {
          "base_uri": "https://localhost:8080/",
          "height": 283
        }
      },
      "source": [
        "#how many missing value availble in the dataset we can see using heatmap\n",
        "sns.heatmap(df_train.isnull(), yticklabels = False, cbar = False, cmap='viridis')"
      ],
      "execution_count": 286,
      "outputs": [
        {
          "output_type": "execute_result",
          "data": {
            "text/plain": [
              "<matplotlib.axes._subplots.AxesSubplot at 0x7f0dff60d438>"
            ]
          },
          "metadata": {
            "tags": []
          },
          "execution_count": 286
        },
        {
          "output_type": "display_data",
          "data": {
            "image/png": "[encoded data removed]",
            "text/plain": [
              "<Figure size 432x288 with 1 Axes>"
            ]
          },
          "metadata": {
            "tags": [],
            "needs_background": "light"
          }
        }
      ]
    },
    {
      "cell_type": "markdown",
      "metadata": {
        "id": "boeMaxfmsYEz",
        "colab_type": "text"
      },
      "source": [
        "**Looks like there no missing value present in the Train dataset."
      ]
    },
    {
      "cell_type": "code",
      "metadata": {
        "id": "29f0HK0kxGR1",
        "colab_type": "code",
        "outputId": "18c60776-2a7a-4447-8df3-32d775360a48",
        "colab": {
          "base_uri": "https://localhost:8080/",
          "height": 195
        }
      },
      "source": [
        "final_df = df_train.append(df_test) #merging the train and test dataset into one \n",
        "final_df.head()"
      ],
      "execution_count": 287,
      "outputs": [
        {
          "output_type": "execute_result",
          "data": {
            "text/html": [
              "<div>\n",
              "<style scoped>\n",
              "    .dataframe tbody tr th:only-of-type {\n",
              "        vertical-align: middle;\n",
              "    }\n",
              "\n",
              "    .dataframe tbody tr th {\n",
              "        vertical-align: top;\n",
              "    }\n",
              "\n",
              "    .dataframe thead th {\n",
              "        text-align: right;\n",
              "    }\n",
              "</style>\n",
              "<table border=\"1\" class=\"dataframe\">\n",
              "  <thead>\n",
              "    <tr style=\"text-align: right;\">\n",
              "      <th></th>\n",
              "      <th>session_id</th>\n",
              "      <th>startTime</th>\n",
              "      <th>endTime</th>\n",
              "      <th>ProductList</th>\n",
              "      <th>gender</th>\n",
              "    </tr>\n",
              "  </thead>\n",
              "  <tbody>\n",
              "    <tr>\n",
              "      <th>0</th>\n",
              "      <td>u16159</td>\n",
              "      <td>15/12/14 18:11</td>\n",
              "      <td>15/12/14 18:12</td>\n",
              "      <td>A00002/B00003/C00006/D28435/;A00002/B00003/C00...</td>\n",
              "      <td>female</td>\n",
              "    </tr>\n",
              "    <tr>\n",
              "      <th>1</th>\n",
              "      <td>u10253</td>\n",
              "      <td>16/12/14 14:35</td>\n",
              "      <td>16/12/14 14:41</td>\n",
              "      <td>A00001/B00009/C00031/D29404/;A00001/B00009/C00...</td>\n",
              "      <td>male</td>\n",
              "    </tr>\n",
              "    <tr>\n",
              "      <th>2</th>\n",
              "      <td>u19037</td>\n",
              "      <td>01/12/14 15:58</td>\n",
              "      <td>01/12/14 15:58</td>\n",
              "      <td>A00002/B00001/C00020/D16944/</td>\n",
              "      <td>female</td>\n",
              "    </tr>\n",
              "    <tr>\n",
              "      <th>3</th>\n",
              "      <td>u14556</td>\n",
              "      <td>23/11/14 2:57</td>\n",
              "      <td>23/11/14 3:00</td>\n",
              "      <td>A00002/B00004/C00018/D10284/;A00002/B00004/C00...</td>\n",
              "      <td>female</td>\n",
              "    </tr>\n",
              "    <tr>\n",
              "      <th>4</th>\n",
              "      <td>u24295</td>\n",
              "      <td>17/12/14 16:44</td>\n",
              "      <td>17/12/14 16:46</td>\n",
              "      <td>A00001/B00001/C00012/D30805/;A00001/B00001/C00...</td>\n",
              "      <td>male</td>\n",
              "    </tr>\n",
              "  </tbody>\n",
              "</table>\n",
              "</div>"
            ],
            "text/plain": [
              "  session_id       startTime         endTime  \\\n",
              "0     u16159  15/12/14 18:11  15/12/14 18:12   \n",
              "1     u10253  16/12/14 14:35  16/12/14 14:41   \n",
              "2     u19037  01/12/14 15:58  01/12/14 15:58   \n",
              "3     u14556   23/11/14 2:57   23/11/14 3:00   \n",
              "4     u24295  17/12/14 16:44  17/12/14 16:46   \n",
              "\n",
              "                                         ProductList  gender  \n",
              "0  A00002/B00003/C00006/D28435/;A00002/B00003/C00...  female  \n",
              "1  A00001/B00009/C00031/D29404/;A00001/B00009/C00...    male  \n",
              "2                       A00002/B00001/C00020/D16944/  female  \n",
              "3  A00002/B00004/C00018/D10284/;A00002/B00004/C00...  female  \n",
              "4  A00001/B00001/C00012/D30805/;A00001/B00001/C00...    male  "
            ]
          },
          "metadata": {
            "tags": []
          },
          "execution_count": 287
        }
      ]
    },
    {
      "cell_type": "code",
      "metadata": {
        "id": "w7PC3IvXz5wn",
        "colab_type": "code",
        "outputId": "25961662-80d3-4243-fad1-9122a016cae8",
        "colab": {
          "base_uri": "https://localhost:8080/",
          "height": 283
        }
      },
      "source": [
        "#how many missing value availble in the dataset we can see using heatmap\n",
        "sns.heatmap(final_df.isnull(), yticklabels = False, cbar = False, cmap='viridis')"
      ],
      "execution_count": 288,
      "outputs": [
        {
          "output_type": "execute_result",
          "data": {
            "text/plain": [
              "<matplotlib.axes._subplots.AxesSubplot at 0x7f0dff4c56d8>"
            ]
          },
          "metadata": {
            "tags": []
          },
          "execution_count": 288
        },
        {
          "output_type": "display_data",
          "data": {
            "image/png": "[encoded data removed]",
            "text/plain": [
              "<Figure size 432x288 with 1 Axes>"
            ]
          },
          "metadata": {
            "tags": [],
            "needs_background": "light"
          }
        }
      ]
    },
    {
      "cell_type": "markdown",
      "metadata": {
        "id": "4M0AyghYAnXk",
        "colab_type": "text"
      },
      "source": [
        "The test_train final_df shows there are some missing values in gender col."
      ]
    },
    {
      "cell_type": "code",
      "metadata": {
        "id": "4TbPl9eg0E3E",
        "colab_type": "code",
        "outputId": "3702d814-4497-45a9-f05e-833f2986fd9c",
        "colab": {
          "base_uri": "https://localhost:8080/",
          "height": 118
        }
      },
      "source": [
        "final_df.isnull().sum()"
      ],
      "execution_count": 289,
      "outputs": [
        {
          "output_type": "execute_result",
          "data": {
            "text/plain": [
              "session_id        0\n",
              "startTime         0\n",
              "endTime           0\n",
              "ProductList       0\n",
              "gender         4500\n",
              "dtype: int64"
            ]
          },
          "metadata": {
            "tags": []
          },
          "execution_count": 289
        }
      ]
    },
    {
      "cell_type": "code",
      "metadata": {
        "id": "oBX1FnYCbFMb",
        "colab_type": "code",
        "outputId": "050311ef-6bc4-4811-829a-79ed90dd5ef3",
        "colab": {
          "base_uri": "https://localhost:8080/",
          "height": 195
        }
      },
      "source": [
        "final_df.head()"
      ],
      "execution_count": 290,
      "outputs": [
        {
          "output_type": "execute_result",
          "data": {
            "text/html": [
              "<div>\n",
              "<style scoped>\n",
              "    .dataframe tbody tr th:only-of-type {\n",
              "        vertical-align: middle;\n",
              "    }\n",
              "\n",
              "    .dataframe tbody tr th {\n",
              "        vertical-align: top;\n",
              "    }\n",
              "\n",
              "    .dataframe thead th {\n",
              "        text-align: right;\n",
              "    }\n",
              "</style>\n",
              "<table border=\"1\" class=\"dataframe\">\n",
              "  <thead>\n",
              "    <tr style=\"text-align: right;\">\n",
              "      <th></th>\n",
              "      <th>session_id</th>\n",
              "      <th>startTime</th>\n",
              "      <th>endTime</th>\n",
              "      <th>ProductList</th>\n",
              "      <th>gender</th>\n",
              "    </tr>\n",
              "  </thead>\n",
              "  <tbody>\n",
              "    <tr>\n",
              "      <th>0</th>\n",
              "      <td>u16159</td>\n",
              "      <td>15/12/14 18:11</td>\n",
              "      <td>15/12/14 18:12</td>\n",
              "      <td>A00002/B00003/C00006/D28435/;A00002/B00003/C00...</td>\n",
              "      <td>female</td>\n",
              "    </tr>\n",
              "    <tr>\n",
              "      <th>1</th>\n",
              "      <td>u10253</td>\n",
              "      <td>16/12/14 14:35</td>\n",
              "      <td>16/12/14 14:41</td>\n",
              "      <td>A00001/B00009/C00031/D29404/;A00001/B00009/C00...</td>\n",
              "      <td>male</td>\n",
              "    </tr>\n",
              "    <tr>\n",
              "      <th>2</th>\n",
              "      <td>u19037</td>\n",
              "      <td>01/12/14 15:58</td>\n",
              "      <td>01/12/14 15:58</td>\n",
              "      <td>A00002/B00001/C00020/D16944/</td>\n",
              "      <td>female</td>\n",
              "    </tr>\n",
              "    <tr>\n",
              "      <th>3</th>\n",
              "      <td>u14556</td>\n",
              "      <td>23/11/14 2:57</td>\n",
              "      <td>23/11/14 3:00</td>\n",
              "      <td>A00002/B00004/C00018/D10284/;A00002/B00004/C00...</td>\n",
              "      <td>female</td>\n",
              "    </tr>\n",
              "    <tr>\n",
              "      <th>4</th>\n",
              "      <td>u24295</td>\n",
              "      <td>17/12/14 16:44</td>\n",
              "      <td>17/12/14 16:46</td>\n",
              "      <td>A00001/B00001/C00012/D30805/;A00001/B00001/C00...</td>\n",
              "      <td>male</td>\n",
              "    </tr>\n",
              "  </tbody>\n",
              "</table>\n",
              "</div>"
            ],
            "text/plain": [
              "  session_id       startTime         endTime  \\\n",
              "0     u16159  15/12/14 18:11  15/12/14 18:12   \n",
              "1     u10253  16/12/14 14:35  16/12/14 14:41   \n",
              "2     u19037  01/12/14 15:58  01/12/14 15:58   \n",
              "3     u14556   23/11/14 2:57   23/11/14 3:00   \n",
              "4     u24295  17/12/14 16:44  17/12/14 16:46   \n",
              "\n",
              "                                         ProductList  gender  \n",
              "0  A00002/B00003/C00006/D28435/;A00002/B00003/C00...  female  \n",
              "1  A00001/B00009/C00031/D29404/;A00001/B00009/C00...    male  \n",
              "2                       A00002/B00001/C00020/D16944/  female  \n",
              "3  A00002/B00004/C00018/D10284/;A00002/B00004/C00...  female  \n",
              "4  A00001/B00001/C00012/D30805/;A00001/B00001/C00...    male  "
            ]
          },
          "metadata": {
            "tags": []
          },
          "execution_count": 290
        }
      ]
    },
    {
      "cell_type": "code",
      "metadata": {
        "id": "jyFAoXLNHG4Q",
        "colab_type": "code",
        "colab": {}
      },
      "source": [
        "final_df['product_']  = final_df['ProductList'].apply(lambda x : x.count(';')+1) #counting the values taking the productlist attribute"
      ],
      "execution_count": 0,
      "outputs": []
    },
    {
      "cell_type": "code",
      "metadata": {
        "id": "EyegdE2XHRpa",
        "colab_type": "code",
        "outputId": "5f0f1ba3-3a06-4f4b-f904-e68789074ff1",
        "colab": {
          "base_uri": "https://localhost:8080/",
          "height": 50
        }
      },
      "source": [
        "final_df['product_'].unique() #unique numeric values"
      ],
      "execution_count": 292,
      "outputs": [
        {
          "output_type": "execute_result",
          "data": {
            "text/plain": [
              "array([ 4,  7,  1,  3,  2,  6, 14,  5,  9, 11, 10, 27, 19,  8, 13, 15, 12,\n",
              "       24, 29, 17, 25, 16, 36, 18, 20, 30, 21, 22, 35, 43, 23, 31, 28])"
            ]
          },
          "metadata": {
            "tags": []
          },
          "execution_count": 292
        }
      ]
    },
    {
      "cell_type": "code",
      "metadata": {
        "id": "0jdqI4VzINmR",
        "colab_type": "code",
        "colab": {}
      },
      "source": [
        "new = final_df['ProductList'].str.split(\";\", expand = True)\n",
        "new.fillna(value=0, inplace = True) #filling na values"
      ],
      "execution_count": 0,
      "outputs": []
    },
    {
      "cell_type": "code",
      "metadata": {
        "id": "tzWW873tITLO",
        "colab_type": "code",
        "outputId": "789d881e-5d6f-46a3-e44d-8a94d2609920",
        "colab": {
          "base_uri": "https://localhost:8080/",
          "height": 195
        }
      },
      "source": [
        "#spliting the product list\n",
        "new_ = new[0].str.split(\"/\", expand = True)\n",
        "new_.head()"
      ],
      "execution_count": 294,
      "outputs": [
        {
          "output_type": "execute_result",
          "data": {
            "text/html": [
              "<div>\n",
              "<style scoped>\n",
              "    .dataframe tbody tr th:only-of-type {\n",
              "        vertical-align: middle;\n",
              "    }\n",
              "\n",
              "    .dataframe tbody tr th {\n",
              "        vertical-align: top;\n",
              "    }\n",
              "\n",
              "    .dataframe thead th {\n",
              "        text-align: right;\n",
              "    }\n",
              "</style>\n",
              "<table border=\"1\" class=\"dataframe\">\n",
              "  <thead>\n",
              "    <tr style=\"text-align: right;\">\n",
              "      <th></th>\n",
              "      <th>0</th>\n",
              "      <th>1</th>\n",
              "      <th>2</th>\n",
              "      <th>3</th>\n",
              "      <th>4</th>\n",
              "    </tr>\n",
              "  </thead>\n",
              "  <tbody>\n",
              "    <tr>\n",
              "      <th>0</th>\n",
              "      <td>A00002</td>\n",
              "      <td>B00003</td>\n",
              "      <td>C00006</td>\n",
              "      <td>D28435</td>\n",
              "      <td></td>\n",
              "    </tr>\n",
              "    <tr>\n",
              "      <th>1</th>\n",
              "      <td>A00001</td>\n",
              "      <td>B00009</td>\n",
              "      <td>C00031</td>\n",
              "      <td>D29404</td>\n",
              "      <td></td>\n",
              "    </tr>\n",
              "    <tr>\n",
              "      <th>2</th>\n",
              "      <td>A00002</td>\n",
              "      <td>B00001</td>\n",
              "      <td>C00020</td>\n",
              "      <td>D16944</td>\n",
              "      <td></td>\n",
              "    </tr>\n",
              "    <tr>\n",
              "      <th>3</th>\n",
              "      <td>A00002</td>\n",
              "      <td>B00004</td>\n",
              "      <td>C00018</td>\n",
              "      <td>D10284</td>\n",
              "      <td></td>\n",
              "    </tr>\n",
              "    <tr>\n",
              "      <th>4</th>\n",
              "      <td>A00001</td>\n",
              "      <td>B00001</td>\n",
              "      <td>C00012</td>\n",
              "      <td>D30805</td>\n",
              "      <td></td>\n",
              "    </tr>\n",
              "  </tbody>\n",
              "</table>\n",
              "</div>"
            ],
            "text/plain": [
              "        0       1       2       3 4\n",
              "0  A00002  B00003  C00006  D28435  \n",
              "1  A00001  B00009  C00031  D29404  \n",
              "2  A00002  B00001  C00020  D16944  \n",
              "3  A00002  B00004  C00018  D10284  \n",
              "4  A00001  B00001  C00012  D30805  "
            ]
          },
          "metadata": {
            "tags": []
          },
          "execution_count": 294
        }
      ]
    },
    {
      "cell_type": "code",
      "metadata": {
        "id": "riMha9NLITOk",
        "colab_type": "code",
        "colab": {}
      },
      "source": [
        "new_.drop(labels = 4, axis = 1, inplace = True)"
      ],
      "execution_count": 0,
      "outputs": []
    },
    {
      "cell_type": "code",
      "metadata": {
        "id": "CU1kAaywIatJ",
        "colab_type": "code",
        "outputId": "3c804c98-1267-461d-c43e-3f7f1bb493ab",
        "colab": {
          "base_uri": "https://localhost:8080/",
          "height": 195
        }
      },
      "source": [
        "#rename rest 4 columns to 0: \"s0\", 1:\"s1\",2:\"s2\", 3:\"s3\" resp.\n",
        "new_ = new_.rename(columns={0: \"s0\", 1:\"s1\",2:\"s2\", 3:\"s3\"})\n",
        "new_.head()"
      ],
      "execution_count": 296,
      "outputs": [
        {
          "output_type": "execute_result",
          "data": {
            "text/html": [
              "<div>\n",
              "<style scoped>\n",
              "    .dataframe tbody tr th:only-of-type {\n",
              "        vertical-align: middle;\n",
              "    }\n",
              "\n",
              "    .dataframe tbody tr th {\n",
              "        vertical-align: top;\n",
              "    }\n",
              "\n",
              "    .dataframe thead th {\n",
              "        text-align: right;\n",
              "    }\n",
              "</style>\n",
              "<table border=\"1\" class=\"dataframe\">\n",
              "  <thead>\n",
              "    <tr style=\"text-align: right;\">\n",
              "      <th></th>\n",
              "      <th>s0</th>\n",
              "      <th>s1</th>\n",
              "      <th>s2</th>\n",
              "      <th>s3</th>\n",
              "    </tr>\n",
              "  </thead>\n",
              "  <tbody>\n",
              "    <tr>\n",
              "      <th>0</th>\n",
              "      <td>A00002</td>\n",
              "      <td>B00003</td>\n",
              "      <td>C00006</td>\n",
              "      <td>D28435</td>\n",
              "    </tr>\n",
              "    <tr>\n",
              "      <th>1</th>\n",
              "      <td>A00001</td>\n",
              "      <td>B00009</td>\n",
              "      <td>C00031</td>\n",
              "      <td>D29404</td>\n",
              "    </tr>\n",
              "    <tr>\n",
              "      <th>2</th>\n",
              "      <td>A00002</td>\n",
              "      <td>B00001</td>\n",
              "      <td>C00020</td>\n",
              "      <td>D16944</td>\n",
              "    </tr>\n",
              "    <tr>\n",
              "      <th>3</th>\n",
              "      <td>A00002</td>\n",
              "      <td>B00004</td>\n",
              "      <td>C00018</td>\n",
              "      <td>D10284</td>\n",
              "    </tr>\n",
              "    <tr>\n",
              "      <th>4</th>\n",
              "      <td>A00001</td>\n",
              "      <td>B00001</td>\n",
              "      <td>C00012</td>\n",
              "      <td>D30805</td>\n",
              "    </tr>\n",
              "  </tbody>\n",
              "</table>\n",
              "</div>"
            ],
            "text/plain": [
              "       s0      s1      s2      s3\n",
              "0  A00002  B00003  C00006  D28435\n",
              "1  A00001  B00009  C00031  D29404\n",
              "2  A00002  B00001  C00020  D16944\n",
              "3  A00002  B00004  C00018  D10284\n",
              "4  A00001  B00001  C00012  D30805"
            ]
          },
          "metadata": {
            "tags": []
          },
          "execution_count": 296
        }
      ]
    },
    {
      "cell_type": "code",
      "metadata": {
        "id": "yLzhxhRMIayJ",
        "colab_type": "code",
        "outputId": "aa7b1dbe-9a9e-421d-a235-86d82a3b23b4",
        "colab": {
          "base_uri": "https://localhost:8080/",
          "height": 195
        }
      },
      "source": [
        "#concatinating the both dataset final and new_\n",
        "final_df = pd.concat([final_df, new_], axis=1)\n",
        "#final_df\n",
        "final_df.head()"
      ],
      "execution_count": 297,
      "outputs": [
        {
          "output_type": "execute_result",
          "data": {
            "text/html": [
              "<div>\n",
              "<style scoped>\n",
              "    .dataframe tbody tr th:only-of-type {\n",
              "        vertical-align: middle;\n",
              "    }\n",
              "\n",
              "    .dataframe tbody tr th {\n",
              "        vertical-align: top;\n",
              "    }\n",
              "\n",
              "    .dataframe thead th {\n",
              "        text-align: right;\n",
              "    }\n",
              "</style>\n",
              "<table border=\"1\" class=\"dataframe\">\n",
              "  <thead>\n",
              "    <tr style=\"text-align: right;\">\n",
              "      <th></th>\n",
              "      <th>session_id</th>\n",
              "      <th>startTime</th>\n",
              "      <th>endTime</th>\n",
              "      <th>ProductList</th>\n",
              "      <th>gender</th>\n",
              "      <th>product_</th>\n",
              "      <th>s0</th>\n",
              "      <th>s1</th>\n",
              "      <th>s2</th>\n",
              "      <th>s3</th>\n",
              "    </tr>\n",
              "  </thead>\n",
              "  <tbody>\n",
              "    <tr>\n",
              "      <th>0</th>\n",
              "      <td>u16159</td>\n",
              "      <td>15/12/14 18:11</td>\n",
              "      <td>15/12/14 18:12</td>\n",
              "      <td>A00002/B00003/C00006/D28435/;A00002/B00003/C00...</td>\n",
              "      <td>female</td>\n",
              "      <td>4</td>\n",
              "      <td>A00002</td>\n",
              "      <td>B00003</td>\n",
              "      <td>C00006</td>\n",
              "      <td>D28435</td>\n",
              "    </tr>\n",
              "    <tr>\n",
              "      <th>1</th>\n",
              "      <td>u10253</td>\n",
              "      <td>16/12/14 14:35</td>\n",
              "      <td>16/12/14 14:41</td>\n",
              "      <td>A00001/B00009/C00031/D29404/;A00001/B00009/C00...</td>\n",
              "      <td>male</td>\n",
              "      <td>7</td>\n",
              "      <td>A00001</td>\n",
              "      <td>B00009</td>\n",
              "      <td>C00031</td>\n",
              "      <td>D29404</td>\n",
              "    </tr>\n",
              "    <tr>\n",
              "      <th>2</th>\n",
              "      <td>u19037</td>\n",
              "      <td>01/12/14 15:58</td>\n",
              "      <td>01/12/14 15:58</td>\n",
              "      <td>A00002/B00001/C00020/D16944/</td>\n",
              "      <td>female</td>\n",
              "      <td>1</td>\n",
              "      <td>A00002</td>\n",
              "      <td>B00001</td>\n",
              "      <td>C00020</td>\n",
              "      <td>D16944</td>\n",
              "    </tr>\n",
              "    <tr>\n",
              "      <th>3</th>\n",
              "      <td>u14556</td>\n",
              "      <td>23/11/14 2:57</td>\n",
              "      <td>23/11/14 3:00</td>\n",
              "      <td>A00002/B00004/C00018/D10284/;A00002/B00004/C00...</td>\n",
              "      <td>female</td>\n",
              "      <td>3</td>\n",
              "      <td>A00002</td>\n",
              "      <td>B00004</td>\n",
              "      <td>C00018</td>\n",
              "      <td>D10284</td>\n",
              "    </tr>\n",
              "    <tr>\n",
              "      <th>4</th>\n",
              "      <td>u24295</td>\n",
              "      <td>17/12/14 16:44</td>\n",
              "      <td>17/12/14 16:46</td>\n",
              "      <td>A00001/B00001/C00012/D30805/;A00001/B00001/C00...</td>\n",
              "      <td>male</td>\n",
              "      <td>2</td>\n",
              "      <td>A00001</td>\n",
              "      <td>B00001</td>\n",
              "      <td>C00012</td>\n",
              "      <td>D30805</td>\n",
              "    </tr>\n",
              "  </tbody>\n",
              "</table>\n",
              "</div>"
            ],
            "text/plain": [
              "  session_id       startTime         endTime  \\\n",
              "0     u16159  15/12/14 18:11  15/12/14 18:12   \n",
              "1     u10253  16/12/14 14:35  16/12/14 14:41   \n",
              "2     u19037  01/12/14 15:58  01/12/14 15:58   \n",
              "3     u14556   23/11/14 2:57   23/11/14 3:00   \n",
              "4     u24295  17/12/14 16:44  17/12/14 16:46   \n",
              "\n",
              "                                         ProductList  gender  product_  \\\n",
              "0  A00002/B00003/C00006/D28435/;A00002/B00003/C00...  female         4   \n",
              "1  A00001/B00009/C00031/D29404/;A00001/B00009/C00...    male         7   \n",
              "2                       A00002/B00001/C00020/D16944/  female         1   \n",
              "3  A00002/B00004/C00018/D10284/;A00002/B00004/C00...  female         3   \n",
              "4  A00001/B00001/C00012/D30805/;A00001/B00001/C00...    male         2   \n",
              "\n",
              "       s0      s1      s2      s3  \n",
              "0  A00002  B00003  C00006  D28435  \n",
              "1  A00001  B00009  C00031  D29404  \n",
              "2  A00002  B00001  C00020  D16944  \n",
              "3  A00002  B00004  C00018  D10284  \n",
              "4  A00001  B00001  C00012  D30805  "
            ]
          },
          "metadata": {
            "tags": []
          },
          "execution_count": 297
        }
      ]
    },
    {
      "cell_type": "code",
      "metadata": {
        "id": "oynnZ_XOKjgv",
        "colab_type": "code",
        "outputId": "7bdbe8e8-9029-4928-e3a6-bc4b3fa7ec7a",
        "colab": {
          "base_uri": "https://localhost:8080/",
          "height": 70
        }
      },
      "source": [
        "#taking reference from stackoverflow\n",
        "d_parser = lambda x : pd.datetime.strptime(x,\"%d/%m/%y %H:%M\")\n",
        "#applying d_parser to endtime as wll as starttime\n",
        "final_df['startTime'] = final_df['startTime'].apply(d_parser)\n",
        "final_df['endTime'] = final_df['endTime'].apply(d_parser)"
      ],
      "execution_count": 298,
      "outputs": [
        {
          "output_type": "stream",
          "text": [
            "/usr/local/lib/python3.6/dist-packages/ipykernel_launcher.py:1: FutureWarning: The pandas.datetime class is deprecated and will be removed from pandas in a future version. Import from datetime instead.\n",
            "  \"\"\"Entry point for launching an IPython kernel.\n"
          ],
          "name": "stderr"
        }
      ]
    },
    {
      "cell_type": "code",
      "metadata": {
        "id": "brqoedz2KoE8",
        "colab_type": "code",
        "outputId": "90664706-d4c5-4fa5-fa8d-6e3193bfa2dc",
        "colab": {
          "base_uri": "https://localhost:8080/",
          "height": 400
        }
      },
      "source": [
        "#time difference between the start time and end time\n",
        "final_df['time difference'] = (pd.to_datetime(final_df['endTime']) - pd.to_datetime(final_df['startTime'])).dt.total_seconds()/60\n",
        "final_df.tail()"
      ],
      "execution_count": 299,
      "outputs": [
        {
          "output_type": "execute_result",
          "data": {
            "text/html": [
              "<div>\n",
              "<style scoped>\n",
              "    .dataframe tbody tr th:only-of-type {\n",
              "        vertical-align: middle;\n",
              "    }\n",
              "\n",
              "    .dataframe tbody tr th {\n",
              "        vertical-align: top;\n",
              "    }\n",
              "\n",
              "    .dataframe thead th {\n",
              "        text-align: right;\n",
              "    }\n",
              "</style>\n",
              "<table border=\"1\" class=\"dataframe\">\n",
              "  <thead>\n",
              "    <tr style=\"text-align: right;\">\n",
              "      <th></th>\n",
              "      <th>session_id</th>\n",
              "      <th>startTime</th>\n",
              "      <th>endTime</th>\n",
              "      <th>ProductList</th>\n",
              "      <th>gender</th>\n",
              "      <th>product_</th>\n",
              "      <th>s0</th>\n",
              "      <th>s1</th>\n",
              "      <th>s2</th>\n",
              "      <th>s3</th>\n",
              "      <th>time difference</th>\n",
              "    </tr>\n",
              "  </thead>\n",
              "  <tbody>\n",
              "    <tr>\n",
              "      <th>4495</th>\n",
              "      <td>u23966</td>\n",
              "      <td>2014-12-15 21:11:00</td>\n",
              "      <td>2014-12-15 21:12:00</td>\n",
              "      <td>A00001/B00031/C00044/D03435/;A00001/B00031/C00...</td>\n",
              "      <td>NaN</td>\n",
              "      <td>3</td>\n",
              "      <td>A00001</td>\n",
              "      <td>B00031</td>\n",
              "      <td>C00044</td>\n",
              "      <td>D03435</td>\n",
              "      <td>1.0</td>\n",
              "    </tr>\n",
              "    <tr>\n",
              "      <th>4496</th>\n",
              "      <td>u20527</td>\n",
              "      <td>2014-12-02 07:53:00</td>\n",
              "      <td>2014-12-02 07:54:00</td>\n",
              "      <td>A00002/B00002/C00004/D17474/;A00002/B00002/C00...</td>\n",
              "      <td>NaN</td>\n",
              "      <td>2</td>\n",
              "      <td>A00002</td>\n",
              "      <td>B00002</td>\n",
              "      <td>C00004</td>\n",
              "      <td>D17474</td>\n",
              "      <td>1.0</td>\n",
              "    </tr>\n",
              "    <tr>\n",
              "      <th>4497</th>\n",
              "      <td>u13253</td>\n",
              "      <td>2014-11-15 21:38:00</td>\n",
              "      <td>2014-11-15 21:46:00</td>\n",
              "      <td>A00002/B00007/C00098/D03350/;A00002/B00007/C00...</td>\n",
              "      <td>NaN</td>\n",
              "      <td>9</td>\n",
              "      <td>A00002</td>\n",
              "      <td>B00007</td>\n",
              "      <td>C00098</td>\n",
              "      <td>D03350</td>\n",
              "      <td>8.0</td>\n",
              "    </tr>\n",
              "    <tr>\n",
              "      <th>4498</th>\n",
              "      <td>u17094</td>\n",
              "      <td>2014-12-17 08:51:00</td>\n",
              "      <td>2014-12-17 08:51:00</td>\n",
              "      <td>A00001/B00031/C00044/D09604/</td>\n",
              "      <td>NaN</td>\n",
              "      <td>1</td>\n",
              "      <td>A00001</td>\n",
              "      <td>B00031</td>\n",
              "      <td>C00044</td>\n",
              "      <td>D09604</td>\n",
              "      <td>0.0</td>\n",
              "    </tr>\n",
              "    <tr>\n",
              "      <th>4499</th>\n",
              "      <td>u24310</td>\n",
              "      <td>2014-12-17 17:25:00</td>\n",
              "      <td>2014-12-17 17:26:00</td>\n",
              "      <td>A00002/B00002/C00003/D20004/;A00002/B00002/C00...</td>\n",
              "      <td>NaN</td>\n",
              "      <td>2</td>\n",
              "      <td>A00002</td>\n",
              "      <td>B00002</td>\n",
              "      <td>C00003</td>\n",
              "      <td>D20004</td>\n",
              "      <td>1.0</td>\n",
              "    </tr>\n",
              "  </tbody>\n",
              "</table>\n",
              "</div>"
            ],
            "text/plain": [
              "     session_id           startTime             endTime  \\\n",
              "4495     u23966 2014-12-15 21:11:00 2014-12-15 21:12:00   \n",
              "4496     u20527 2014-12-02 07:53:00 2014-12-02 07:54:00   \n",
              "4497     u13253 2014-11-15 21:38:00 2014-11-15 21:46:00   \n",
              "4498     u17094 2014-12-17 08:51:00 2014-12-17 08:51:00   \n",
              "4499     u24310 2014-12-17 17:25:00 2014-12-17 17:26:00   \n",
              "\n",
              "                                            ProductList gender  product_  \\\n",
              "4495  A00001/B00031/C00044/D03435/;A00001/B00031/C00...    NaN         3   \n",
              "4496  A00002/B00002/C00004/D17474/;A00002/B00002/C00...    NaN         2   \n",
              "4497  A00002/B00007/C00098/D03350/;A00002/B00007/C00...    NaN         9   \n",
              "4498                       A00001/B00031/C00044/D09604/    NaN         1   \n",
              "4499  A00002/B00002/C00003/D20004/;A00002/B00002/C00...    NaN         2   \n",
              "\n",
              "          s0      s1      s2      s3  time difference  \n",
              "4495  A00001  B00031  C00044  D03435              1.0  \n",
              "4496  A00002  B00002  C00004  D17474              1.0  \n",
              "4497  A00002  B00007  C00098  D03350              8.0  \n",
              "4498  A00001  B00031  C00044  D09604              0.0  \n",
              "4499  A00002  B00002  C00003  D20004              1.0  "
            ]
          },
          "metadata": {
            "tags": []
          },
          "execution_count": 299
        }
      ]
    },
    {
      "cell_type": "code",
      "metadata": {
        "id": "XpTtuCe3LGoa",
        "colab_type": "code",
        "outputId": "fdf8fec5-3862-440e-9e9b-09bbfbd25d3a",
        "colab": {
          "base_uri": "https://localhost:8080/",
          "height": 195
        }
      },
      "source": [
        "final_df.drop(columns=['endTime','startTime','ProductList'],inplace=True)\n",
        "final_df.head()"
      ],
      "execution_count": 300,
      "outputs": [
        {
          "output_type": "execute_result",
          "data": {
            "text/html": [
              "<div>\n",
              "<style scoped>\n",
              "    .dataframe tbody tr th:only-of-type {\n",
              "        vertical-align: middle;\n",
              "    }\n",
              "\n",
              "    .dataframe tbody tr th {\n",
              "        vertical-align: top;\n",
              "    }\n",
              "\n",
              "    .dataframe thead th {\n",
              "        text-align: right;\n",
              "    }\n",
              "</style>\n",
              "<table border=\"1\" class=\"dataframe\">\n",
              "  <thead>\n",
              "    <tr style=\"text-align: right;\">\n",
              "      <th></th>\n",
              "      <th>session_id</th>\n",
              "      <th>gender</th>\n",
              "      <th>product_</th>\n",
              "      <th>s0</th>\n",
              "      <th>s1</th>\n",
              "      <th>s2</th>\n",
              "      <th>s3</th>\n",
              "      <th>time difference</th>\n",
              "    </tr>\n",
              "  </thead>\n",
              "  <tbody>\n",
              "    <tr>\n",
              "      <th>0</th>\n",
              "      <td>u16159</td>\n",
              "      <td>female</td>\n",
              "      <td>4</td>\n",
              "      <td>A00002</td>\n",
              "      <td>B00003</td>\n",
              "      <td>C00006</td>\n",
              "      <td>D28435</td>\n",
              "      <td>1.0</td>\n",
              "    </tr>\n",
              "    <tr>\n",
              "      <th>1</th>\n",
              "      <td>u10253</td>\n",
              "      <td>male</td>\n",
              "      <td>7</td>\n",
              "      <td>A00001</td>\n",
              "      <td>B00009</td>\n",
              "      <td>C00031</td>\n",
              "      <td>D29404</td>\n",
              "      <td>6.0</td>\n",
              "    </tr>\n",
              "    <tr>\n",
              "      <th>2</th>\n",
              "      <td>u19037</td>\n",
              "      <td>female</td>\n",
              "      <td>1</td>\n",
              "      <td>A00002</td>\n",
              "      <td>B00001</td>\n",
              "      <td>C00020</td>\n",
              "      <td>D16944</td>\n",
              "      <td>0.0</td>\n",
              "    </tr>\n",
              "    <tr>\n",
              "      <th>3</th>\n",
              "      <td>u14556</td>\n",
              "      <td>female</td>\n",
              "      <td>3</td>\n",
              "      <td>A00002</td>\n",
              "      <td>B00004</td>\n",
              "      <td>C00018</td>\n",
              "      <td>D10284</td>\n",
              "      <td>3.0</td>\n",
              "    </tr>\n",
              "    <tr>\n",
              "      <th>4</th>\n",
              "      <td>u24295</td>\n",
              "      <td>male</td>\n",
              "      <td>2</td>\n",
              "      <td>A00001</td>\n",
              "      <td>B00001</td>\n",
              "      <td>C00012</td>\n",
              "      <td>D30805</td>\n",
              "      <td>2.0</td>\n",
              "    </tr>\n",
              "  </tbody>\n",
              "</table>\n",
              "</div>"
            ],
            "text/plain": [
              "  session_id  gender  product_      s0      s1      s2      s3  \\\n",
              "0     u16159  female         4  A00002  B00003  C00006  D28435   \n",
              "1     u10253    male         7  A00001  B00009  C00031  D29404   \n",
              "2     u19037  female         1  A00002  B00001  C00020  D16944   \n",
              "3     u14556  female         3  A00002  B00004  C00018  D10284   \n",
              "4     u24295    male         2  A00001  B00001  C00012  D30805   \n",
              "\n",
              "   time difference  \n",
              "0              1.0  \n",
              "1              6.0  \n",
              "2              0.0  \n",
              "3              3.0  \n",
              "4              2.0  "
            ]
          },
          "metadata": {
            "tags": []
          },
          "execution_count": 300
        }
      ]
    },
    {
      "cell_type": "code",
      "metadata": {
        "id": "MepcrDYsUE34",
        "colab_type": "code",
        "outputId": "ccb71dd9-4e6e-45b8-8a7c-dbfc6ec28d61",
        "colab": {
          "base_uri": "https://localhost:8080/",
          "height": 195
        }
      },
      "source": [
        "from sklearn.preprocessing import LabelEncoder\n",
        "#converting the labels into numeric form so as to convert it into the machine-readable form\n",
        "le_en = LabelEncoder()\n",
        "for a in ['s0','s1','s2','s3'] :\n",
        "    final_df[a] = le_en.fit_transform(final_df[a])\n",
        "final_df.head()"
      ],
      "execution_count": 301,
      "outputs": [
        {
          "output_type": "execute_result",
          "data": {
            "text/html": [
              "<div>\n",
              "<style scoped>\n",
              "    .dataframe tbody tr th:only-of-type {\n",
              "        vertical-align: middle;\n",
              "    }\n",
              "\n",
              "    .dataframe tbody tr th {\n",
              "        vertical-align: top;\n",
              "    }\n",
              "\n",
              "    .dataframe thead th {\n",
              "        text-align: right;\n",
              "    }\n",
              "</style>\n",
              "<table border=\"1\" class=\"dataframe\">\n",
              "  <thead>\n",
              "    <tr style=\"text-align: right;\">\n",
              "      <th></th>\n",
              "      <th>session_id</th>\n",
              "      <th>gender</th>\n",
              "      <th>product_</th>\n",
              "      <th>s0</th>\n",
              "      <th>s1</th>\n",
              "      <th>s2</th>\n",
              "      <th>s3</th>\n",
              "      <th>time difference</th>\n",
              "    </tr>\n",
              "  </thead>\n",
              "  <tbody>\n",
              "    <tr>\n",
              "      <th>0</th>\n",
              "      <td>u16159</td>\n",
              "      <td>female</td>\n",
              "      <td>4</td>\n",
              "      <td>1</td>\n",
              "      <td>2</td>\n",
              "      <td>5</td>\n",
              "      <td>9144</td>\n",
              "      <td>1.0</td>\n",
              "    </tr>\n",
              "    <tr>\n",
              "      <th>1</th>\n",
              "      <td>u10253</td>\n",
              "      <td>male</td>\n",
              "      <td>7</td>\n",
              "      <td>0</td>\n",
              "      <td>8</td>\n",
              "      <td>30</td>\n",
              "      <td>9422</td>\n",
              "      <td>6.0</td>\n",
              "    </tr>\n",
              "    <tr>\n",
              "      <th>2</th>\n",
              "      <td>u19037</td>\n",
              "      <td>female</td>\n",
              "      <td>1</td>\n",
              "      <td>1</td>\n",
              "      <td>0</td>\n",
              "      <td>19</td>\n",
              "      <td>5795</td>\n",
              "      <td>0.0</td>\n",
              "    </tr>\n",
              "    <tr>\n",
              "      <th>3</th>\n",
              "      <td>u14556</td>\n",
              "      <td>female</td>\n",
              "      <td>3</td>\n",
              "      <td>1</td>\n",
              "      <td>3</td>\n",
              "      <td>17</td>\n",
              "      <td>3668</td>\n",
              "      <td>3.0</td>\n",
              "    </tr>\n",
              "    <tr>\n",
              "      <th>4</th>\n",
              "      <td>u24295</td>\n",
              "      <td>male</td>\n",
              "      <td>2</td>\n",
              "      <td>0</td>\n",
              "      <td>0</td>\n",
              "      <td>11</td>\n",
              "      <td>9762</td>\n",
              "      <td>2.0</td>\n",
              "    </tr>\n",
              "  </tbody>\n",
              "</table>\n",
              "</div>"
            ],
            "text/plain": [
              "  session_id  gender  product_  s0  s1  s2    s3  time difference\n",
              "0     u16159  female         4   1   2   5  9144              1.0\n",
              "1     u10253    male         7   0   8  30  9422              6.0\n",
              "2     u19037  female         1   1   0  19  5795              0.0\n",
              "3     u14556  female         3   1   3  17  3668              3.0\n",
              "4     u24295    male         2   0   0  11  9762              2.0"
            ]
          },
          "metadata": {
            "tags": []
          },
          "execution_count": 301
        }
      ]
    },
    {
      "cell_type": "code",
      "metadata": {
        "id": "SMytQYEgLGr3",
        "colab_type": "code",
        "colab": {}
      },
      "source": [
        "test_session = df_test['session_id']"
      ],
      "execution_count": 0,
      "outputs": []
    },
    {
      "cell_type": "code",
      "metadata": {
        "id": "laSBX5HbMUOd",
        "colab_type": "code",
        "colab": {}
      },
      "source": [
        "df_train_1 = final_df[final_df['gender'].isnull()==False].copy()\n",
        "df_test_1 = final_df[final_df['gender'].isnull()==True].copy()"
      ],
      "execution_count": 0,
      "outputs": []
    },
    {
      "cell_type": "code",
      "metadata": {
        "id": "l17g5xsdMnb0",
        "colab_type": "code",
        "colab": {}
      },
      "source": [
        "df_train_1['gender']=df_train_1['gender'].apply(lambda x : 1 if x == 'male' else 0)\n",
        "df_train_1.drop(columns='session_id',axis=1, inplace=True) #droping the session_id\n",
        "df_test_1.drop(columns=['gender','session_id'],axis=1, inplace=True)"
      ],
      "execution_count": 0,
      "outputs": []
    },
    {
      "cell_type": "code",
      "metadata": {
        "id": "jKB8eFOgNUBI",
        "colab_type": "code",
        "colab": {}
      },
      "source": [
        "X = df_train_1.drop('gender',axis=1)\n",
        "y = df_train_1['gender']"
      ],
      "execution_count": 0,
      "outputs": []
    },
    {
      "cell_type": "code",
      "metadata": {
        "id": "BimB2ISdNp6D",
        "colab_type": "code",
        "colab": {}
      },
      "source": [
        "X_train, X_test, y_train, y_test = train_test_split(X, y, test_size = 0.33, stratify = y, random_state = 40)\n"
      ],
      "execution_count": 0,
      "outputs": []
    },
    {
      "cell_type": "code",
      "metadata": {
        "id": "qQ-I19DjIwxS",
        "colab_type": "code",
        "outputId": "0247d553-5322-4177-e840-4eb6974f7bbc",
        "colab": {
          "base_uri": "https://localhost:8080/",
          "height": 50
        }
      },
      "source": [
        "from sklearn.ensemble import RandomForestClassifier\n",
        "ranf_clf = RandomForestClassifier()\n",
        "ranf_clf.fit(X_train, y_train)\n",
        "print('Training score = {}'.format(ranf_clf.score(X_train,y_train)))\n",
        "print('Test score = {}'.format(ranf_clf.score(X_test,y_test)))"
      ],
      "execution_count": 307,
      "outputs": [
        {
          "output_type": "stream",
          "text": [
            "Training score = 0.9920398009950249\n",
            "Test score = 0.8637806637806638\n"
          ],
          "name": "stdout"
        }
      ]
    },
    {
      "cell_type": "code",
      "metadata": {
        "id": "_QXrZtF_Lmbf",
        "colab_type": "code",
        "colab": {}
      },
      "source": [
        "ranf_clf.fit(X, y)\n",
        "test_prob = ranf_clf.predict_proba(df_test_1)[:,1]\n",
        "df_ranf = pd.DataFrame({'session_id':test_session,'gender':test_prob})"
      ],
      "execution_count": 0,
      "outputs": []
    },
    {
      "cell_type": "code",
      "metadata": {
        "id": "_iU7fLUsMrsq",
        "colab_type": "code",
        "colab": {}
      },
      "source": [
        "df_ranf['gender'] = df_ranf['gender'].apply(lambda x : 'male' if x >0.5 else 'female')"
      ],
      "execution_count": 0,
      "outputs": []
    },
    {
      "cell_type": "code",
      "metadata": {
        "id": "JG_gZhQvM0YP",
        "colab_type": "code",
        "outputId": "77e631e3-94b8-4d49-ac51-2d7185db5967",
        "colab": {
          "base_uri": "https://localhost:8080/",
          "height": 67
        }
      },
      "source": [
        "df_ranf['gender'].value_counts()"
      ],
      "execution_count": 310,
      "outputs": [
        {
          "output_type": "execute_result",
          "data": {
            "text/plain": [
              "female    3683\n",
              "male       817\n",
              "Name: gender, dtype: int64"
            ]
          },
          "metadata": {
            "tags": []
          },
          "execution_count": 310
        }
      ]
    },
    {
      "cell_type": "code",
      "metadata": {
        "id": "m64cfCX9MlHi",
        "colab_type": "code",
        "colab": {}
      },
      "source": [
        "import xgboost\n",
        "classifier = xgboost.XGBClassifier()"
      ],
      "execution_count": 0,
      "outputs": []
    },
    {
      "cell_type": "code",
      "metadata": {
        "id": "rZeuZqStKtqv",
        "colab_type": "code",
        "colab": {}
      },
      "source": [
        "classifier_Randomized = xgboost.XGBClassifier(base_score=0.5, booster='gbtree', colsample_bylevel=1,\n",
        "              colsample_bynode=1, colsample_bytree=0.5, gamma=0.0,\n",
        "              learning_rate=0.01, max_delta_step=0, max_depth=6,\n",
        "              min_child_weight=7, missing=None, n_estimators=300, n_jobs=-1,\n",
        "              nthread=None, objective='binary:logistic', random_state=0,\n",
        "              reg_alpha=0, reg_lambda=1, scale_pos_weight=1, seed=None,\n",
        "              silent=None, subsample=1, verbosity=1, early_stopping_rounds = 15)"
      ],
      "execution_count": 0,
      "outputs": []
    },
    {
      "cell_type": "code",
      "metadata": {
        "id": "-G9FWj2DME3y",
        "colab_type": "code",
        "outputId": "631a22e7-5a2c-412a-e34f-9a52a8ed966d",
        "colab": {
          "base_uri": "https://localhost:8080/",
          "height": 151
        }
      },
      "source": [
        "classifier_Randomized.fit(X_train,y_train)"
      ],
      "execution_count": 313,
      "outputs": [
        {
          "output_type": "execute_result",
          "data": {
            "text/plain": [
              "XGBClassifier(base_score=0.5, booster='gbtree', colsample_bylevel=1,\n",
              "              colsample_bynode=1, colsample_bytree=0.5,\n",
              "              early_stopping_rounds=15, gamma=0.0, learning_rate=0.01,\n",
              "              max_delta_step=0, max_depth=6, min_child_weight=7, missing=None,\n",
              "              n_estimators=300, n_jobs=-1, nthread=None,\n",
              "              objective='binary:logistic', random_state=0, reg_alpha=0,\n",
              "              reg_lambda=1, scale_pos_weight=1, seed=None, silent=None,\n",
              "              subsample=1, verbosity=1)"
            ]
          },
          "metadata": {
            "tags": []
          },
          "execution_count": 313
        }
      ]
    },
    {
      "cell_type": "code",
      "metadata": {
        "id": "dOeFLS-1Ms6q",
        "colab_type": "code",
        "colab": {}
      },
      "source": [
        "test_prob = classifier_Randomized.predict_proba(df_test_1)[:,1]\n",
        "df_xgb = pd.DataFrame({'session_id':test_session,'gender':test_prob})"
      ],
      "execution_count": 0,
      "outputs": []
    },
    {
      "cell_type": "code",
      "metadata": {
        "id": "V1DIGppxM1i5",
        "colab_type": "code",
        "colab": {}
      },
      "source": [
        "df_xgb['gender'] = df_xgb['gender'].apply(lambda x : 'male' if x > 0.5 else 'female')"
      ],
      "execution_count": 0,
      "outputs": []
    },
    {
      "cell_type": "code",
      "metadata": {
        "id": "Gy0HKWDlM9fu",
        "colab_type": "code",
        "outputId": "000c9dc1-8b05-4ea1-fc01-352fc5b3f202",
        "colab": {
          "base_uri": "https://localhost:8080/",
          "height": 67
        }
      },
      "source": [
        "df_xgb['gender'].value_counts()"
      ],
      "execution_count": 316,
      "outputs": [
        {
          "output_type": "execute_result",
          "data": {
            "text/plain": [
              "female    3802\n",
              "male       698\n",
              "Name: gender, dtype: int64"
            ]
          },
          "metadata": {
            "tags": []
          },
          "execution_count": 316
        }
      ]
    },
    {
      "cell_type": "code",
      "metadata": {
        "id": "RME5Z2REVRHu",
        "colab_type": "code",
        "colab": {}
      },
      "source": [
        "df_xgb.to_csv('submission.csv', index=False)"
      ],
      "execution_count": 0,
      "outputs": []
    },
    {
      "cell_type": "code",
      "metadata": {
        "id": "O8hVlNUeUCCQ",
        "colab_type": "code",
        "colab": {}
      },
      "source": [
        ""
      ],
      "execution_count": 0,
      "outputs": []
    }
  ]
}